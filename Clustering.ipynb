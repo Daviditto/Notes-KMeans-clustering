{
 "cells": [
  {
   "cell_type": "markdown",
   "id": "7ad4f784-0093-4f75-a425-be7f4fb3cfd6",
   "metadata": {},
   "source": [
    "# Clustering Using K-Means"
   ]
  },
  {
   "cell_type": "code",
   "execution_count": 19,
   "id": "310e250c-cebf-4ecd-b75f-32a4b8a065ec",
   "metadata": {},
   "outputs": [],
   "source": [
    "from sklearn.datasets import load_iris\n",
    "from sklearn.cluster import KMeans\n",
    "from sklearn.preprocessing import StandardScaler\n",
    "from matplotlib import pyplot as plt"
   ]
  },
  {
   "cell_type": "code",
   "execution_count": 2,
   "id": "680d61de-fb4e-4f59-b9bc-72413a28e3ba",
   "metadata": {},
   "outputs": [],
   "source": [
    "X,y = load_iris().data, load_iris().target"
   ]
  },
  {
   "cell_type": "code",
   "execution_count": 136,
   "id": "39c2b9ab-5a1f-469c-9c94-6a9df5b0342b",
   "metadata": {},
   "outputs": [],
   "source": [
    "Xs = StandardScaler().fit_transform(X)"
   ]
  },
  {
   "cell_type": "code",
   "execution_count": 41,
   "id": "8019c0c3-eb67-480a-a3f1-790c6276d153",
   "metadata": {},
   "outputs": [],
   "source": [
    "km = KMeans(n_clusters=3)"
   ]
  },
  {
   "cell_type": "code",
   "execution_count": 42,
   "id": "eb822910-ce03-4a9c-bf4e-72f224d03e8e",
   "metadata": {},
   "outputs": [],
   "source": [
    "ftkm = km.fit(Xs)"
   ]
  },
  {
   "cell_type": "code",
   "execution_count": 193,
   "id": "3e4fe412-38a8-48e7-a6b4-426f23d0b155",
   "metadata": {},
   "outputs": [
    {
     "data": {
      "text/plain": [
       "array([0, 0, 0, 0, 0, 0, 0, 0, 0, 0, 0, 0, 0, 0, 0, 0, 0, 0, 0, 0, 0, 0,\n",
       "       0, 0, 0, 0, 0, 0, 0, 0, 0, 0, 0, 0, 0, 0, 0, 0, 0, 0, 0, 0, 0, 0,\n",
       "       0, 0, 0, 0, 0, 0, 2, 2, 2, 1, 1, 1, 2, 1, 1, 1, 1, 1, 1, 1, 1, 2,\n",
       "       1, 1, 1, 1, 2, 1, 1, 1, 1, 2, 2, 2, 1, 1, 1, 1, 1, 1, 1, 2, 2, 1,\n",
       "       1, 1, 1, 1, 1, 1, 1, 1, 1, 1, 1, 1, 2, 1, 2, 2, 2, 2, 1, 2, 2, 2,\n",
       "       2, 2, 2, 1, 1, 2, 2, 2, 2, 1, 2, 1, 2, 1, 2, 2, 1, 2, 2, 2, 2, 2,\n",
       "       2, 1, 1, 2, 2, 2, 1, 2, 2, 2, 1, 2, 2, 2, 1, 2, 2, 1], dtype=int32)"
      ]
     },
     "execution_count": 193,
     "metadata": {},
     "output_type": "execute_result"
    }
   ],
   "source": [
    "ftkm.labels_"
   ]
  },
  {
   "cell_type": "code",
   "execution_count": 195,
   "id": "2f530f4a-efa8-4602-b321-0fc38452e280",
   "metadata": {},
   "outputs": [
    {
     "data": {
      "text/plain": [
       "array([0, 0, 0, 0, 0, 0, 0, 0, 0, 0, 0, 0, 0, 0, 0, 0, 0, 0, 0, 0, 0, 0,\n",
       "       0, 0, 0, 0, 0, 0, 0, 0, 0, 0, 0, 0, 0, 0, 0, 0, 0, 0, 0, 0, 0, 0,\n",
       "       0, 0, 0, 0, 0, 0, 1, 1, 1, 1, 1, 1, 1, 1, 1, 1, 1, 1, 1, 1, 1, 1,\n",
       "       1, 1, 1, 1, 1, 1, 1, 1, 1, 1, 1, 1, 1, 1, 1, 1, 1, 1, 1, 1, 1, 1,\n",
       "       1, 1, 1, 1, 1, 1, 1, 1, 1, 1, 1, 1, 2, 2, 2, 2, 2, 2, 2, 2, 2, 2,\n",
       "       2, 2, 2, 2, 2, 2, 2, 2, 2, 2, 2, 2, 2, 2, 2, 2, 2, 2, 2, 2, 2, 2,\n",
       "       2, 2, 2, 2, 2, 2, 2, 2, 2, 2, 2, 2, 2, 2, 2, 2, 2, 2])"
      ]
     },
     "execution_count": 195,
     "metadata": {},
     "output_type": "execute_result"
    }
   ],
   "source": [
    "y"
   ]
  },
  {
   "cell_type": "code",
   "execution_count": 175,
   "id": "214ff9b6-3b79-46f1-9f42-759c376d9177",
   "metadata": {},
   "outputs": [
    {
     "data": {
      "text/plain": [
       "(3, 4)"
      ]
     },
     "execution_count": 175,
     "metadata": {},
     "output_type": "execute_result"
    }
   ],
   "source": [
    "ftkm.cluster_centers_.shape"
   ]
  },
  {
   "cell_type": "code",
   "execution_count": 44,
   "id": "e83a1a3c-4db4-49f8-9543-e79a7f999df3",
   "metadata": {},
   "outputs": [],
   "source": [
    "yn = ftkm.fit(Xs).predict(Xs)"
   ]
  },
  {
   "cell_type": "code",
   "execution_count": 45,
   "id": "39308195-fb3a-4b57-80d3-7d662022b3b9",
   "metadata": {},
   "outputs": [
    {
     "data": {
      "text/plain": [
       "array([2], dtype=int32)"
      ]
     },
     "execution_count": 45,
     "metadata": {},
     "output_type": "execute_result"
    }
   ],
   "source": [
    "ftkm.predict([[0.8,0.8,0.8,0.8]])"
   ]
  },
  {
   "cell_type": "code",
   "execution_count": 47,
   "id": "2a0306d0-6efd-48a8-a866-1401118d9215",
   "metadata": {},
   "outputs": [
    {
     "data": {
      "image/png": "[encoded data removed]",
      "text/plain": [
       "<Figure size 432x288 with 1 Axes>"
      ]
     },
     "metadata": {
      "needs_background": "light"
     },
     "output_type": "display_data"
    }
   ],
   "source": [
    "plt.scatter(Xs[:,0], Xs[:,1], c=yn)\n",
    "plt.scatter(ftkm.cluster_centers_[:,0], ftkm.cluster_centers_[:,1], facecolor='red');"
   ]
  },
  {
   "cell_type": "code",
   "execution_count": 48,
   "id": "e4b42fe8-2921-45b7-a5d9-66bf0a679ba6",
   "metadata": {},
   "outputs": [],
   "source": [
    "from sklearn.datasets import load_digits"
   ]
  },
  {
   "cell_type": "code",
   "execution_count": 49,
   "id": "79640cc8-2f81-4040-877a-fa465ddddb5c",
   "metadata": {},
   "outputs": [],
   "source": [
    "Xd, yd = load_digits().data, load_digits().target"
   ]
  },
  {
   "cell_type": "code",
   "execution_count": 126,
   "id": "4cdd27ab-82cc-4573-93c2-1e7a9e5fdd2e",
   "metadata": {},
   "outputs": [],
   "source": [
    "def plot_digits(data):\n",
    "    fig, axes = plt.subplots(2, 5 , figsize=(8,4), subplot_kw=dict(xticks=[], yticks=[]), gridspec_kw= dict(hspace=0.01, wspace=0.01))\n",
    "    for i, ax in enumerate(axes.flat):\n",
    "        ax.imshow(data[i].reshape(8,8), cmap='binary')\n",
    "        for j in ax.spines.values():\n",
    "            j.set_visible(False)"
   ]
  },
  {
   "cell_type": "code",
   "execution_count": 127,
   "id": "372328ef-e4f8-4f99-9ebb-8d4741faf094",
   "metadata": {},
   "outputs": [
    {
     "data": {
      "text/plain": [
       "(64,)"
      ]
     },
     "execution_count": 127,
     "metadata": {},
     "output_type": "execute_result"
    }
   ],
   "source": [
    "Xd[0].shape"
   ]
  },
  {
   "cell_type": "code",
   "execution_count": 128,
   "id": "e7d44874-0f81-4438-9855-78a3b32e371d",
   "metadata": {},
   "outputs": [
    {
     "data": {
      "image/png": "[encoded data removed]",
      "text/plain": [
       "<Figure size 576x288 with 10 Axes>"
      ]
     },
     "metadata": {},
     "output_type": "display_data"
    }
   ],
   "source": [
    "plot_digits(Xd)"
   ]
  },
  {
   "cell_type": "code",
   "execution_count": 129,
   "id": "d31f4da8-97e1-4725-86a0-ded8cea8bdcb",
   "metadata": {},
   "outputs": [],
   "source": [
    "KM = KMeans(n_clusters=10)"
   ]
  },
  {
   "cell_type": "code",
   "execution_count": 130,
   "id": "5b41d9d1-ec31-4727-b4b3-e320c04b62b9",
   "metadata": {},
   "outputs": [
    {
     "data": {
      "text/plain": [
       "KMeans(n_clusters=10)"
      ]
     },
     "execution_count": 130,
     "metadata": {},
     "output_type": "execute_result"
    }
   ],
   "source": [
    "KM.fit(Xd)"
   ]
  },
  {
   "cell_type": "code",
   "execution_count": 131,
   "id": "0d341380-091f-497e-aae3-99b66c1a14d6",
   "metadata": {},
   "outputs": [],
   "source": [
    "clusters = KM.cluster_centers_"
   ]
  },
  {
   "cell_type": "code",
   "execution_count": 132,
   "id": "3ca5ced4-3765-4d0b-b050-da4915456987",
   "metadata": {},
   "outputs": [
    {
     "data": {
      "image/png": "[encoded data removed]",
      "text/plain": [
       "<Figure size 576x288 with 10 Axes>"
      ]
     },
     "metadata": {},
     "output_type": "display_data"
    }
   ],
   "source": [
    "plot_digits(clusters)"
   ]
  },
  {
   "cell_type": "markdown",
   "id": "4ddb6672-4e74-427b-967f-8ab50d37798a",
   "metadata": {},
   "source": [
    "# Speeding Up K-Means Clustering"
   ]
  },
  {
   "cell_type": "code",
   "execution_count": 138,
   "id": "bd419fcc-ad0e-4344-a303-4544cc58fd44",
   "metadata": {},
   "outputs": [],
   "source": [
    "from sklearn.cluster import MiniBatchKMeans"
   ]
  },
  {
   "cell_type": "code",
   "execution_count": 162,
   "id": "d9c0f369-af01-40c2-8444-f36574a3dcda",
   "metadata": {},
   "outputs": [],
   "source": [
    "cluster = MiniBatchKMeans(n_clusters=3, random_state=0, batch_size=50)"
   ]
  },
  {
   "cell_type": "code",
   "execution_count": 163,
   "id": "4707375c-8560-4a8d-91f7-3535262165da",
   "metadata": {},
   "outputs": [],
   "source": [
    "features = load_iris().data\n",
    "nfeatures = StandardScaler().fit_transform(features)"
   ]
  },
  {
   "cell_type": "code",
   "execution_count": 165,
   "id": "4ee0566a-b0b3-446f-92b0-127f095d7596",
   "metadata": {},
   "outputs": [],
   "source": [
    "# mini.fit(nfeatures)"
   ]
  },
  {
   "cell_type": "code",
   "execution_count": null,
   "id": "e5e6e506-a19e-4cfe-824a-af079086d73a",
   "metadata": {},
   "outputs": [],
   "source": []
  },
  {
   "cell_type": "markdown",
   "id": "c87e0912-d901-429b-b0e5-ca9ab7d34cb9",
   "metadata": {},
   "source": [
    "# Clustering Using Meanshift"
   ]
  },
  {
   "cell_type": "code",
   "execution_count": 166,
   "id": "19b68c7a-9011-42d3-a145-47ae12746285",
   "metadata": {},
   "outputs": [],
   "source": [
    "from sklearn.cluster import MeanShift"
   ]
  },
  {
   "cell_type": "code",
   "execution_count": 168,
   "id": "a38291b4-cdd7-443a-b8b3-0fdb50cc0473",
   "metadata": {},
   "outputs": [],
   "source": [
    "X,y = load_iris().data, load_iris().target\n",
    "Xs = StandardScaler().fit_transform(X)"
   ]
  },
  {
   "cell_type": "code",
   "execution_count": 189,
   "id": "af6804ac-c831-4fe0-a94a-d8ecb1c81e07",
   "metadata": {},
   "outputs": [],
   "source": [
    "ms = MeanShift(bandwidth=1)#cluster_all=False, the parameter bandwidth will decide how many centers we get"
   ]
  },
  {
   "cell_type": "code",
   "execution_count": 190,
   "id": "5410b8a1-fe96-491e-9447-7d7c7b6c83fe",
   "metadata": {},
   "outputs": [],
   "source": [
    "ftms = ms.fit(Xs)"
   ]
  },
  {
   "cell_type": "code",
   "execution_count": 191,
   "id": "58d44f4f-47ab-444a-9a64-a41f80ffdfd3",
   "metadata": {},
   "outputs": [
    {
     "data": {
      "text/plain": [
       "array([0])"
      ]
     },
     "execution_count": 191,
     "metadata": {},
     "output_type": "execute_result"
    }
   ],
   "source": [
    "ftms.predict([[0.8,0.8,0.8,0.8]])"
   ]
  },
  {
   "cell_type": "code",
   "execution_count": 192,
   "id": "baa173b1-7de1-40ab-bc42-2f38149614d8",
   "metadata": {},
   "outputs": [
    {
     "data": {
      "text/plain": [
       "(4, 4)"
      ]
     },
     "execution_count": 192,
     "metadata": {},
     "output_type": "execute_result"
    }
   ],
   "source": [
    "ftms.cluster_centers_.shape"
   ]
  },
  {
   "cell_type": "code",
   "execution_count": 212,
   "id": "aec20e20-3064-4690-a6b5-7b3225f810c7",
   "metadata": {},
   "outputs": [
    {
     "data": {
      "text/plain": [
       "array([1, 1, 1, 1, 1, 1, 1, 1, 1, 1, 1, 1, 1, 1, 1, 1, 1, 1, 1, 1, 1, 1,\n",
       "       1, 1, 1, 1, 1, 1, 1, 1, 1, 1, 1, 1, 1, 1, 1, 1, 1, 1, 1, 3, 1, 1,\n",
       "       1, 1, 1, 1, 1, 1, 0, 0, 0, 0, 0, 0, 0, 3, 0, 0, 3, 0, 0, 0, 0, 0,\n",
       "       0, 0, 0, 0, 0, 0, 0, 0, 0, 0, 0, 0, 0, 0, 0, 0, 0, 0, 0, 0, 0, 0,\n",
       "       0, 0, 0, 0, 0, 3, 0, 0, 0, 0, 3, 0, 0, 0, 0, 0, 0, 2, 0, 0, 0, 2,\n",
       "       0, 0, 0, 0, 0, 0, 0, 2, 0, 0, 2, 0, 2, 0, 0, 2, 0, 0, 0, 0, 0, 2,\n",
       "       0, 0, 0, 2, 0, 0, 0, 0, 0, 0, 0, 2, 2, 0, 0, 0, 0, 0])"
      ]
     },
     "execution_count": 212,
     "metadata": {},
     "output_type": "execute_result"
    }
   ],
   "source": [
    "ftms.labels_"
   ]
  },
  {
   "cell_type": "markdown",
   "id": "6cbfac99-7134-421c-bad9-9d4b02536cae",
   "metadata": {},
   "source": [
    "# Clustering Using DBSCAN"
   ]
  },
  {
   "cell_type": "code",
   "execution_count": 196,
   "id": "6c4da975-a2bb-46b4-9042-1fed5db5a003",
   "metadata": {},
   "outputs": [],
   "source": [
    "from sklearn.cluster import DBSCAN"
   ]
  },
  {
   "cell_type": "code",
   "execution_count": 208,
   "id": "da4fb183-128c-4705-a052-0397f2e01961",
   "metadata": {},
   "outputs": [],
   "source": [
    "dbscan = DBSCAN(n_jobs=-1, metric='manhattan', min_samples=10, eps=0.5)"
   ]
  },
  {
   "cell_type": "code",
   "execution_count": 209,
   "id": "b7baf9c6-41b8-43f0-831f-7487daa5ad42",
   "metadata": {},
   "outputs": [],
   "source": [
    "ftdbscan = dbscan.fit(Xs)"
   ]
  },
  {
   "cell_type": "code",
   "execution_count": 210,
   "id": "4a463159-d475-447f-adda-f8a04ee95ea3",
   "metadata": {},
   "outputs": [
    {
     "data": {
      "text/plain": [
       "array([ 7, 39])"
      ]
     },
     "execution_count": 210,
     "metadata": {},
     "output_type": "execute_result"
    }
   ],
   "source": [
    "ftdbscan.core_sample_indices_"
   ]
  },
  {
   "cell_type": "code",
   "execution_count": 211,
   "id": "020bd622-f567-4d3a-828b-552fb5ecdfa7",
   "metadata": {},
   "outputs": [
    {
     "data": {
      "text/plain": [
       "array([ 0, -1, -1, -1, -1, -1, -1,  0, -1, -1, -1,  0, -1, -1, -1, -1, -1,\n",
       "        0, -1, -1,  0, -1, -1, -1,  0, -1,  0,  0,  0, -1, -1, -1, -1, -1,\n",
       "       -1, -1, -1, -1, -1,  0,  0, -1, -1, -1, -1, -1, -1, -1, -1,  0, -1,\n",
       "       -1, -1, -1, -1, -1, -1, -1, -1, -1, -1, -1, -1, -1, -1, -1, -1, -1,\n",
       "       -1, -1, -1, -1, -1, -1, -1, -1, -1, -1, -1, -1, -1, -1, -1, -1, -1,\n",
       "       -1, -1, -1, -1, -1, -1, -1, -1, -1, -1, -1, -1, -1, -1, -1, -1, -1,\n",
       "       -1, -1, -1, -1, -1, -1, -1, -1, -1, -1, -1, -1, -1, -1, -1, -1, -1,\n",
       "       -1, -1, -1, -1, -1, -1, -1, -1, -1, -1, -1, -1, -1, -1, -1, -1, -1,\n",
       "       -1, -1, -1, -1, -1, -1, -1, -1, -1, -1, -1, -1, -1, -1])"
      ]
     },
     "execution_count": 211,
     "metadata": {},
     "output_type": "execute_result"
    }
   ],
   "source": [
    "ftdbscan.labels_"
   ]
  },
  {
   "cell_type": "code",
   "execution_count": 213,
   "id": "d1e05c1d-dcc3-4750-b1f9-6dfa7ab92219",
   "metadata": {},
   "outputs": [
    {
     "data": {
      "text/plain": [
       "0.5"
      ]
     },
     "execution_count": 213,
     "metadata": {},
     "output_type": "execute_result"
    }
   ],
   "source": [
    "ftdbscan.eps"
   ]
  },
  {
   "cell_type": "code",
   "execution_count": null,
   "id": "03ee3d51-7ea2-41a2-835c-7bb609d172e7",
   "metadata": {},
   "outputs": [],
   "source": []
  },
  {
   "cell_type": "markdown",
   "id": "a4feee89-7f5d-4101-bcba-4ee117b957bd",
   "metadata": {},
   "source": [
    "# Clustering Using Hierarchical Merging"
   ]
  },
  {
   "cell_type": "code",
   "execution_count": 215,
   "id": "d9b404a8-a03a-4230-bede-61a80c6a81e4",
   "metadata": {},
   "outputs": [],
   "source": [
    "from sklearn.cluster import AgglomerativeClustering"
   ]
  },
  {
   "cell_type": "code",
   "execution_count": 216,
   "id": "16928bd1-1022-477f-b9f3-40d76fecf959",
   "metadata": {},
   "outputs": [],
   "source": [
    "cluster = AgglomerativeClustering(n_clusters=3)"
   ]
  },
  {
   "cell_type": "code",
   "execution_count": 217,
   "id": "d42e2128-6b70-4c79-b449-f70c76875d42",
   "metadata": {},
   "outputs": [],
   "source": [
    "clusterfit = cluster.fit(Xs)"
   ]
  },
  {
   "cell_type": "code",
   "execution_count": 218,
   "id": "f5487c66-a3c2-47f1-a539-5ad2661e27ce",
   "metadata": {},
   "outputs": [
    {
     "data": {
      "text/plain": [
       "False"
      ]
     },
     "execution_count": 218,
     "metadata": {},
     "output_type": "execute_result"
    }
   ],
   "source": [
    "clusterfit.compute_distances"
   ]
  },
  {
   "cell_type": "code",
   "execution_count": 219,
   "id": "26e092c5-7280-43ca-a8b4-d5811b162cdb",
   "metadata": {},
   "outputs": [
    {
     "data": {
      "text/plain": [
       "array([1, 1, 1, 1, 1, 1, 1, 1, 1, 1, 1, 1, 1, 1, 1, 1, 1, 1, 1, 1, 1, 1,\n",
       "       1, 1, 1, 1, 1, 1, 1, 1, 1, 1, 1, 1, 1, 1, 1, 1, 1, 1, 1, 2, 1, 1,\n",
       "       1, 1, 1, 1, 1, 1, 0, 0, 0, 2, 0, 2, 0, 2, 0, 2, 2, 0, 2, 0, 2, 0,\n",
       "       2, 2, 2, 2, 0, 0, 0, 0, 0, 0, 0, 0, 0, 2, 2, 2, 2, 0, 2, 0, 0, 2,\n",
       "       2, 2, 2, 0, 2, 2, 2, 2, 2, 0, 2, 2, 0, 0, 0, 0, 0, 0, 2, 0, 0, 0,\n",
       "       0, 0, 0, 0, 0, 0, 0, 0, 0, 2, 0, 0, 0, 0, 0, 0, 0, 0, 0, 0, 0, 0,\n",
       "       0, 0, 0, 0, 0, 0, 0, 0, 0, 0, 0, 0, 0, 0, 0, 0, 0, 0])"
      ]
     },
     "execution_count": 219,
     "metadata": {},
     "output_type": "execute_result"
    }
   ],
   "source": [
    "clusterfit.labels_"
   ]
  },
  {
   "cell_type": "code",
   "execution_count": 220,
   "id": "90cf1496-ed62-49a6-b52b-c4597a58cf6b",
   "metadata": {},
   "outputs": [
    {
     "data": {
      "text/plain": [
       "'ward'"
      ]
     },
     "execution_count": 220,
     "metadata": {},
     "output_type": "execute_result"
    }
   ],
   "source": [
    "clusterfit.linkage # average, or complete , ward"
   ]
  },
  {
   "cell_type": "code",
   "execution_count": 221,
   "id": "90f7f8c5-ee3f-4e27-bbec-e5a29e1c8f37",
   "metadata": {},
   "outputs": [
    {
     "data": {
      "text/plain": [
       "3"
      ]
     },
     "execution_count": 221,
     "metadata": {},
     "output_type": "execute_result"
    }
   ],
   "source": [
    "clusterfit.n_clusters_"
   ]
  },
  {
   "cell_type": "code",
   "execution_count": 223,
   "id": "a8504f8b-95a9-4553-92d1-102c39818b66",
   "metadata": {},
   "outputs": [
    {
     "data": {
      "text/plain": [
       "'euclidean'"
      ]
     },
     "execution_count": 223,
     "metadata": {},
     "output_type": "execute_result"
    }
   ],
   "source": [
    "clusterfit.affinity"
   ]
  },
  {
   "cell_type": "code",
   "execution_count": null,
   "id": "5301f9ed-3838-4fcd-a721-589b8e997baa",
   "metadata": {},
   "outputs": [],
   "source": []
  }
 ],
 "metadata": {
  "kernelspec": {
   "display_name": "Python 3 (ipykernel)",
   "language": "python",
   "name": "python3"
  },
  "language_info": {
   "codemirror_mode": {
    "name": "ipython",
    "version": 3
   },
   "file_extension": ".py",
   "mimetype": "text/x-python",
   "name": "python",
   "nbconvert_exporter": "python",
   "pygments_lexer": "ipython3",
   "version": "3.9.7"
  }
 },
 "nbformat": 4,
 "nbformat_minor": 5
}
